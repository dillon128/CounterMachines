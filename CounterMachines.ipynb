{
 "cells": [
  {
   "cell_type": "code",
   "execution_count": 74,
   "metadata": {},
   "outputs": [],
   "source": [
    "def CounterMachine(Instructions,Registers):\n",
    "    Index = 1\n",
    "    CurrentInstr = Instructions[Index-1][1]\n",
    "    Count = 0\n",
    "    while CurrentInstr != 'HALT':\n",
    "        if CurrentInstr == 'INC' or CurrentInstr == 'DEC' or CurrentInstr == 'IF' or CurrentInstr == 'CLR':\n",
    "            CurrentReg = Instructions[Index-1][2]\n",
    "        if CurrentInstr == 'COPY':\n",
    "            FirstReg = Instructions[Index-1][2]\n",
    "            SecondReg = Instructions[Index-1][3]\n",
    "            CurrentReg = max([FirstReg,SecondReg])\n",
    "        if CurrentInstr == 'GOTO':\n",
    "            CurrentReg = 0\n",
    "        if CurrentReg > len(Registers):\n",
    "            NewReg = [0 for i in range(CurrentReg)]\n",
    "            for i in range(len(Registers)):\n",
    "                NewReg[i] = Registers[i]\n",
    "            Registers = NewReg\n",
    "        if CurrentInstr == 'INC':\n",
    "            OldValue = Registers[CurrentReg-1]\n",
    "            Registers[CurrentReg-1] = OldValue + 1\n",
    "            Index = Index + 1\n",
    "        if CurrentInstr == 'DEC':\n",
    "            OldValue = Registers[CurrentReg-1]\n",
    "            if OldValue > 0:\n",
    "                Registers[CurrentReg-1] = OldValue - 1\n",
    "            Index = Index + 1\n",
    "        if CurrentInstr == 'IF':\n",
    "            OldValue = Registers[CurrentReg-1]\n",
    "            if OldValue == 0:\n",
    "                Index = Instructions[Index-1][3]\n",
    "            else:\n",
    "                Index = Index + 1\n",
    "        if CurrentInstr == 'COPY':\n",
    "            FirstValue = Registers[FirstReg-1]\n",
    "            Registers[SecondReg-1] = FirstValue\n",
    "            Index = Index + 1\n",
    "        if CurrentInstr == 'GOTO':\n",
    "            Index = Instructions[Index-1][2]\n",
    "        if CurrentInstr == 'CLR':\n",
    "            Registers[CurrentReg-1] = 0\n",
    "            Index = Index + 1\n",
    "        Count = Count + 1\n",
    "        print (Count, Registers)\n",
    "        if Count%100000000 == 0:\n",
    "           print (Count, Registers)\n",
    "        CurrentInstr = Instructions[Index-1][1]\n",
    "    Count = Count + 1\n",
    "    print (Count, Registers)"
   ]
  }
 ],
 "metadata": {
  "kernelspec": {
   "display_name": "Python 3 (ipykernel)",
   "language": "python",
   "name": "python3"
  },
  "language_info": {
   "codemirror_mode": {
    "name": "ipython",
    "version": 3
   },
   "file_extension": ".py",
   "mimetype": "text/x-python",
   "name": "python",
   "nbconvert_exporter": "python",
   "pygments_lexer": "ipython3",
   "version": "3.12.4"
  }
 },
 "nbformat": 4,
 "nbformat_minor": 4
}
